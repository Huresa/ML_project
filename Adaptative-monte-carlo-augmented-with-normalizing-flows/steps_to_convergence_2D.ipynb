{
 "cells": [
  {
   "cell_type": "code",
   "execution_count": 12,
   "metadata": {},
   "outputs": [],
   "source": [
    "import matplotlib.pyplot as plt\n",
    "from os import getcwd\n",
    "import torch\n",
    "from tqdm import tqdm\n",
    "from torch.distributions import multivariate_normal\n",
    "\n",
    "from algorithm_package.algorithm_package import paper_algorithm\n",
    "from energy_package.energy_package import two_param\n",
    "from rf_package.rf_package import planar_flow\n",
    "from plot_animation_package.plot_animation_package import density_2D\n",
    "\n",
    "\n",
    "from numpy.random import uniform\n",
    "import numpy as np\n",
    "import torch.autograd as autograd\n",
    "from  torch.distributions import multivariate_normal\n",
    "import torch.optim as optim\n",
    "from os import getcwd, makedirs"
   ]
  },
  {
   "cell_type": "code",
   "execution_count": 13,
   "metadata": {},
   "outputs": [],
   "source": [
    "def NF_MCMC_algorithm(model_name, beta, U, BC, energy_parameters, flow, initial_data, base_distribution, time_step, k_max, k_lang, epsilon):\n",
    "    #all operations must act on the whole array of lattices, hence proposed_model_configuration_amongst_zeros and other weird stuff\n",
    "    \n",
    "    ### ADDED\n",
    "    kl_div_list = np.zeros(k_max)\n",
    "\n",
    "    path = getcwd()+'\\\\saved_models\\\\'+model_name\n",
    "    makedirs(path)\n",
    "\n",
    "    def gradU(configuration):\n",
    "        return autograd.grad(U(configuration, energy_parameters), configuration)[0]\n",
    "\n",
    "    n, N = initial_data.shape\n",
    "\n",
    "    normal_distribution_for_langevin = multivariate_normal.MultivariateNormal(loc=torch.zeros(N), covariance_matrix=torch.eye(N))\n",
    "\n",
    "    array_of_model_configurations = torch.zeros(k_max,n,N)\n",
    "    array_of_model_configurations[0] = initial_data\n",
    "    array_of_model_configurations.requires_grad = True\n",
    "\n",
    "    optimizer = optim.Adam(flow.parameters(), lr=epsilon)\n",
    "\n",
    "    history = torch.zeros(k_max, n)\n",
    "    #history[k,i] = 0 => Dynamic Langevin step\n",
    "    #history[k,i] = 1 => Static Langevin step\n",
    "    #history[k,i] = 2 => Dynamic Flow step\n",
    "    #history[k,i] = 3 => Static Flow step\n",
    "\n",
    "    for k in tqdm(range(1,k_max)):\n",
    "        for i in range(n):\n",
    "            proposed_model_configuration_amongst_zeros = torch.zeros(k_max,n,N)\n",
    "            if k % k_lang == 0:\n",
    "                history[k,i] += 2\n",
    "                proposed_model_configuration_amongst_zeros[k,i] = flow(base_distribution.sample())[0]\n",
    "                \n",
    "                proposed_model_configuration_amongst_zeros[k,i] = BC(proposed_model_configuration_amongst_zeros[k,i])\n",
    "\n",
    "                acceptance_rate = torch.exp(log_rho_hat(array_of_model_configurations[k-1,i])\n",
    "                                            - log_rho_hat(proposed_model_configuration_amongst_zeros[k,i])\n",
    "                                            + beta*U(array_of_model_configurations[k-1, i], energy_parameters)\n",
    "                                            - beta*U(proposed_model_configuration_amongst_zeros[k, i], energy_parameters))\n",
    "\n",
    "            else:\n",
    "                proposed_model_configuration_amongst_zeros[k,i] = ( array_of_model_configurations[k-1,i]\n",
    "                                                                    - time_step * gradU(array_of_model_configurations[k-1, i])\n",
    "                                                                    + torch.sqrt(2*torch.tensor(time_step)) * normal_distribution_for_langevin.sample())\n",
    "\n",
    "                proposed_model_configuration_amongst_zeros[k,i] = BC(proposed_model_configuration_amongst_zeros[k,i])\n",
    "\n",
    "                acceptance_rate = torch.exp(beta*U(array_of_model_configurations[k-1, i], energy_parameters)\n",
    "                                            - beta*U(proposed_model_configuration_amongst_zeros[k, i], energy_parameters))\n",
    "\n",
    "            if uniform() > acceptance_rate:\n",
    "                    proposed_model_configuration_amongst_zeros[k,i] = array_of_model_configurations[k-1,i]\n",
    "                    history[k,i] += 1\n",
    "            array_of_model_configurations = array_of_model_configurations + proposed_model_configuration_amongst_zeros\n",
    "\n",
    "        def log_rho_hat(x):\n",
    "            return base_distribution.log_prob((flow.inverse(x))[0])+flow.inverse(x)[1]\n",
    "        \n",
    "        #OPTIMISATION\n",
    "        optimizer.zero_grad()\n",
    "        x = array_of_model_configurations[k-1,:].clone().detach().requires_grad_(False)\n",
    "        loss = - (base_distribution.log_prob(flow.inverse(x)[0]) + flow.inverse(x)[1]).mean()\n",
    "        kl_div_list[k] = loss.detach().numpy()\n",
    "        loss.backward()\n",
    "        optimizer.step()\n",
    "    \n",
    "    torch.save(flow.state_dict(), path+'\\\\model.pt')\n",
    "    torch.save(array_of_model_configurations, path+'\\\\array_of_model_configurations.pt')\n",
    "    torch.save(history, path+'\\\\history.pt')\n",
    "\n",
    "    file_name = path+\"\\\\parameters.txt\"\n",
    "    with open(file_name, 'w') as file:\n",
    "        file.write(f\"beta\\t{beta}\\n\")\n",
    "        file.write(f\"n\\t{n}\\n\")\n",
    "        file.write(f\"N\\t{N}\\n\")\n",
    "        file.write(f\"time_step\\t{time_step}\\n\")\n",
    "        file.write(f\"k_max\\t{k_max}\\n\")\n",
    "        file.write(f\"k_lang\\t{k_lang}\\n\")\n",
    "        file.write(f\"epsilon\\t{epsilon}\\n\")\n",
    "        file.write(\"energy_parameters\\t\")\n",
    "        file.write(str(energy_parameters))\n",
    "    \n",
    "    return kl_div_list, history, array_of_model_configurations.detach()"
   ]
  },
  {
   "cell_type": "code",
   "execution_count": 1,
   "metadata": {},
   "outputs": [
    {
     "ename": "NameError",
     "evalue": "name 'two_param' is not defined",
     "output_type": "error",
     "traceback": [
      "\u001b[1;31m---------------------------------------------------------------------------\u001b[0m",
      "\u001b[1;31mNameError\u001b[0m                                 Traceback (most recent call last)",
      "Input \u001b[1;32mIn [1]\u001b[0m, in \u001b[0;36m<cell line: 4>\u001b[1;34m()\u001b[0m\n\u001b[0;32m      2\u001b[0m data_dim \u001b[38;5;241m=\u001b[39m \u001b[38;5;241m2\u001b[39m \u001b[38;5;66;03m#size of the parameter space\u001b[39;00m\n\u001b[0;32m      3\u001b[0m beta \u001b[38;5;241m=\u001b[39m \u001b[38;5;241m1\u001b[39m\n\u001b[1;32m----> 4\u001b[0m U \u001b[38;5;241m=\u001b[39m \u001b[43mtwo_param\u001b[49m\u001b[38;5;241m.\u001b[39mbistable_circle\n\u001b[0;32m      5\u001b[0m BC \u001b[38;5;241m=\u001b[39m two_param\u001b[38;5;241m.\u001b[39mbistable_circle_BC\n\u001b[0;32m      6\u001b[0m energy_parameters \u001b[38;5;241m=\u001b[39m []\n",
      "\u001b[1;31mNameError\u001b[0m: name 'two_param' is not defined"
     ]
    }
   ],
   "source": [
    "# MODEL PARAMETERS\n",
    "data_dim = 2 #size of the parameter space\n",
    "beta = 1\n",
    "U = two_param.bistable_circle\n",
    "BC = two_param.bistable_circle_BC\n",
    "energy_parameters = []\n",
    "\n",
    "# RF PARAMETERS\n",
    "base_distribution = multivariate_normal.MultivariateNormal(loc=torch.zeros(data_dim), covariance_matrix=torch.eye(data_dim))\n",
    "renormalization_flow = planar_flow.LayeredPlanarFlow(data_dim)\n",
    "epsilon = 2e-2 #gradient descent rate for RF parameters\n",
    "n = 200 #number of initial samples\n",
    "\n",
    "# MALA PARAMETERS\n",
    "time_step = 1e-1\n",
    "k_lang = 5\n",
    "k_max = 50\n",
    "\n",
    "# INITIALISATION\n",
    "initial_data = torch.rand(n*data_dim).reshape(n,data_dim)*20-10\n",
    "\n",
    "base_file = 'multivariate_normal-LayeredPlanarFlow-convergence-v2'\n",
    "\n",
    "# RUN\n",
    "model_name = base_file+\"\\\\\"+'convergence'\n",
    "model_file = getcwd()+\"\\\\saved_models\"+\"\\\\\"+model_name\n",
    "\n",
    "RF_MCMC_parameters = [time_step, k_max, k_lang, epsilon]\n",
    "kl_div_list, history, array_of_model_configurations = NF_MCMC_algorithm(model_name, beta, U, BC, energy_parameters, renormalization_flow, initial_data, base_distribution, *RF_MCMC_parameters)"
   ]
  },
  {
   "cell_type": "code",
   "execution_count": 21,
   "metadata": {},
   "outputs": [
    {
     "data": {
      "image/png": "[encoded data removed]",
      "text/plain": [
       "<Figure size 432x288 with 1 Axes>"
      ]
     },
     "metadata": {
      "needs_background": "light"
     },
     "output_type": "display_data"
    }
   ],
   "source": [
    "fig, ax = plt.subplots()\n",
    "\n",
    "ax.set_xlabel('Number of iterations', fontsize=16)\n",
    "ax.set_ylabel('KL Divergence', fontsize=16)\n",
    "ax.plot(kl_div_list[1:])\n",
    "plt.tight_layout()\n",
    "fig.savefig(getcwd()+\"\\\\saved_models\"+\"\\\\\"+base_file+'\\\\convergence')\n",
    "\n",
    "txt_file = getcwd()+\"\\\\saved_models\"+\"\\\\\"+base_file+'\\\\convergence.txt'\n",
    "np.savetxt(txt_file, kl_div_list, delimiter=\"\\t\", header=\"kl_div\")"
   ]
  },
  {
   "cell_type": "code",
   "execution_count": null,
   "metadata": {},
   "outputs": [],
   "source": []
  }
 ],
 "metadata": {
  "kernelspec": {
   "display_name": "base",
   "language": "python",
   "name": "python3"
  },
  "language_info": {
   "codemirror_mode": {
    "name": "ipython",
    "version": 3
   },
   "file_extension": ".py",
   "mimetype": "text/x-python",
   "name": "python",
   "nbconvert_exporter": "python",
   "pygments_lexer": "ipython3",
   "version": "3.9.12"
  }
 },
 "nbformat": 4,
 "nbformat_minor": 2
}
