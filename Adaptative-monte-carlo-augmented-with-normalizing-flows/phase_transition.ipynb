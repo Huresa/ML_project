{
 "cells": [
  {
   "cell_type": "code",
   "execution_count": 1,
   "metadata": {},
   "outputs": [],
   "source": [
    "import matplotlib.pyplot as plt\n",
    "from os import getcwd\n",
    "import torch\n",
    "from torch.distributions import multivariate_normal\n",
    "\n",
    "from algorithm_package.algorithm_package import paper_algorithm\n",
    "#from energy_package.energy_package import two_param\n",
    "from energy_package.energy_package import XY\n",
    "from rf_package.rf_package import planar_flow\n",
    "#from plot_animation_package.plot_animation_package import density_2D\n",
    "from plot_animation_package.plot_animation_package import XYd2n2\n",
    "from plot_animation_package.plot_animation_package import XYd2n1"
   ]
  },
  {
   "cell_type": "code",
   "execution_count": 18,
   "metadata": {},
   "outputs": [
    {
     "data": {
      "text/plain": [
       "tensor([[2.0000],\n",
       "        [3.3333]])"
      ]
     },
     "execution_count": 18,
     "metadata": {},
     "output_type": "execute_result"
    }
   ],
   "source": [
    "lattice_memory = torch.tensor([[1.,2.,3.],[3.,4.,3.]])\n",
    "torch.mean(lattice_memory, dim=1, keepdim=True)"
   ]
  },
  {
   "cell_type": "code",
   "execution_count": 13,
   "metadata": {},
   "outputs": [
    {
     "name": "stdout",
     "output_type": "stream",
     "text": [
      "{'beta': 1.0, 'n': 30.0, 'N': 100.0, 'time_step': 0.1, 'k_max': 200.0, 'k_lang': 10.0, 'epsilon': 0.01, 'energy parameters': [1.0, 1.0, 1.0, 3.141592653589793]}\n",
      "hello\n"
     ]
    }
   ],
   "source": [
    "####\n",
    "model_name = 'XYd2n1-multivariate_normal-LayeredPlanarFlow-beta1'\n",
    "renormalization_flow = planar_flow.LayeredPlanarFlow\n",
    "number_of_evals = 100 #evaluations to compute the mean of the state variable\n",
    "####\n",
    "\n",
    "# LOADING MODEL AND PARAMETERS\n",
    "model_file = getcwd()+\"\\\\saved_models\"+\"\\\\\"+model_name+\"\\\\\"+model_name\n",
    "parameters_file = getcwd()+\"\\\\saved_models\"+\"\\\\\"+model_name+\"\\\\parameters.txt\"\n",
    "\n",
    "parameters = {}\n",
    "with open(parameters_file, 'r') as file:\n",
    "    for line in file:\n",
    "        key, value = line.strip().split('\\t')\n",
    "        if value.startswith('[') and value.endswith(']'):\n",
    "            value = [float(x.strip()) for x in value[1:-1].split(',')]\n",
    "        else:\n",
    "            try:\n",
    "                value = float(value)\n",
    "            except ValueError:\n",
    "                pass\n",
    "        parameters[key] = value\n",
    "\n",
    "print(parameters)\n",
    "for key, value in parameters.items():\n",
    "    globals()[key] = value\n",
    "\n",
    "flow = renormalization_flow(int(N))\n",
    "flow.load_state_dict(torch.load(model_file))\n",
    "flow.eval()\n",
    "\n",
    "\n",
    "print('hello')\n",
    "\n"
   ]
  },
  {
   "cell_type": "code",
   "execution_count": 8,
   "metadata": {},
   "outputs": [
    {
     "data": {
      "text/plain": [
       "100.0"
      ]
     },
     "execution_count": 8,
     "metadata": {},
     "output_type": "execute_result"
    }
   ],
   "source": [
    "N"
   ]
  },
  {
   "cell_type": "code",
   "execution_count": null,
   "metadata": {},
   "outputs": [],
   "source": []
  }
 ],
 "metadata": {
  "kernelspec": {
   "display_name": "Python 3",
   "language": "python",
   "name": "python3"
  },
  "language_info": {
   "codemirror_mode": {
    "name": "ipython",
    "version": 3
   },
   "file_extension": ".py",
   "mimetype": "text/x-python",
   "name": "python",
   "nbconvert_exporter": "python",
   "pygments_lexer": "ipython3",
   "version": "3.9.12"
  }
 },
 "nbformat": 4,
 "nbformat_minor": 2
}
