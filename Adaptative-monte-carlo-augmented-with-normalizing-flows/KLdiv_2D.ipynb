{
 "cells": [
  {
   "cell_type": "code",
   "execution_count": 2,
   "metadata": {},
   "outputs": [],
   "source": [
    "import matplotlib.pyplot as plt\n",
    "from os import getcwd\n",
    "import torch\n",
    "from numpy import linspace, logspace, savetxt, column_stack\n",
    "from tqdm import tqdm\n",
    "from torch.distributions import multivariate_normal\n",
    "\n",
    "from algorithm_package.algorithm_package import paper_algorithm\n",
    "from energy_package.energy_package import two_param\n",
    "from rf_package.rf_package import planar_flow\n",
    "from plot_animation_package.plot_animation_package import density_2D\n",
    "\n",
    "import multiprocessing\n",
    "from joblib import Parallel, delayed"
   ]
  },
  {
   "cell_type": "code",
   "execution_count": 3,
   "metadata": {},
   "outputs": [],
   "source": [
    "def plot(beta, U, energy_parameters, model_file, renormalization_flow, base_distribution):\n",
    "\n",
    "    flow = renormalization_flow\n",
    "    flow.load_state_dict(torch.load(model_file+'\\\\model.pt'))\n",
    "    flow.eval()\n",
    "\n",
    "    fig, (ax1, ax2) = plt.subplots(1,2, figsize = (12,5))\n",
    "\n",
    "    xlim = [-15,15]\n",
    "    ylim = xlim\n",
    "    x = torch.linspace(* xlim,200)\n",
    "    y = torch.linspace(*ylim,200)\n",
    "\n",
    "    xx, yy = torch.meshgrid(x,y)\n",
    "\n",
    "    def log_rho_hat(x):\n",
    "        return base_distribution.log_prob((flow.inverse(x))[0]) + flow.inverse(x)[1]\n",
    "\n",
    "    z_flow = torch.exp(log_rho_hat(torch.stack([xx, yy], dim=-1).reshape(-1, 2)).detach()).reshape(xx.shape)\n",
    "    z_flow_norm = z_flow / torch.sum(z_flow)+1e-15\n",
    "    \n",
    "    ax1.pcolormesh(xx.numpy(),yy.numpy(),z_flow_norm.numpy())\n",
    "    ax1.set_title('Flow distribution')\n",
    "    ax1.set_xlabel('x')\n",
    "    ax1.set_ylabel('y')\n",
    "\n",
    "    z_target = torch.exp(-beta*U(torch.stack([xx, yy]), energy_parameters))\n",
    "    z_target_norm = z_target / torch.sum(z_target)+1e-15\n",
    "    \n",
    "    ax2.pcolormesh(xx.numpy(),yy.numpy(),z_target_norm.numpy())\n",
    "    ax2.set_title('Target distribution')\n",
    "    ax2.set_xlabel('x')\n",
    "\n",
    "    # Compute KL Divergence\n",
    "    kl_div = torch.sum(z_flow_norm * torch.log(z_flow_norm / z_target_norm))\n",
    "    \n",
    "    fig.savefig(model_file+'.png')\n",
    "\n",
    "    return kl_div"
   ]
  },
  {
   "cell_type": "code",
   "execution_count": 5,
   "metadata": {},
   "outputs": [
    {
     "name": "stdout",
     "output_type": "stream",
     "text": [
      "Sample: tensor([0.0998, 0.5722, 0.0900])\n",
      "Log Probability: tensor(0., grad_fn=<SumBackward1>)\n",
      "Gradient with respect to low: tensor(3.)\n",
      "Gradient with respect to high: tensor(-3.)\n"
     ]
    }
   ],
   "source": [
    "import torch\n",
    "from torch.distributions.uniform import Uniform\n",
    "\n",
    "class MultivariateUniform(Uniform):\n",
    "    def __init__(self, low, high, data_dim):\n",
    "        super(MultivariateUniform, self).__init__(low, high)\n",
    "        self.data_dim = data_dim\n",
    "\n",
    "    def sample(self):\n",
    "        return super().sample(torch.Size([self.data_dim]))\n",
    "\n",
    "    def log_prob(self, value):\n",
    "        if value.dim() < 1 or value.size(-1) != self.data_dim:\n",
    "            raise ValueError(\"Last dimension of value must be of size data_dim\")\n",
    "\n",
    "        # Calculate log_prob for each dimension and sum them\n",
    "        log_prob_per_dim = super().log_prob(value)\n",
    "        return log_prob_per_dim.sum(-1)\n",
    "\n",
    "import torch\n",
    "from torch.autograd import grad\n",
    "\n",
    "# Create a MultivariateUniform distribution instance\n",
    "data_dim = 3\n",
    "low = torch.tensor(0.0, requires_grad=True)\n",
    "high = torch.tensor(1.0, requires_grad=True)\n",
    "uniform_dist = MultivariateUniform(low, high, data_dim)\n",
    "\n",
    "# Generate a sample\n",
    "sample = uniform_dist.sample()\n",
    "\n",
    "# Compute log probability\n",
    "log_prob = uniform_dist.log_prob(sample)\n",
    "\n",
    "# Calculate gradients\n",
    "gradient_low = grad(log_prob, low, retain_graph=True)[0]\n",
    "gradient_high = grad(log_prob, high)[0]\n",
    "\n",
    "print(\"Sample:\", sample)\n",
    "print(\"Log Probability:\", log_prob)\n",
    "print(\"Gradient with respect to low:\", gradient_low)\n",
    "print(\"Gradient with respect to high:\", gradient_high)\n"
   ]
  },
  {
   "cell_type": "code",
   "execution_count": 16,
   "metadata": {},
   "outputs": [
    {
     "data": {
      "image/png": "[encoded data removed]",
      "text/plain": [
       "<Figure size 432x288 with 1 Axes>"
      ]
     },
     "metadata": {
      "needs_background": "light"
     },
     "output_type": "display_data"
    }
   ],
   "source": [
    "#torch.manual_seed(0)\n",
    "beta_list = logspace(-3,3,10)\n",
    "\n",
    "# MODEL PARAMETERS\n",
    "data_dim = 2 #size of the parameter space\n",
    "beta = 1\n",
    "U = two_param.bistable_circle\n",
    "BC = two_param.bistable_circle_BC\n",
    "energy_parameters = []\n",
    "\n",
    "# RF PARAMETERS\n",
    "base_distribution = multivariate_normal.MultivariateNormal(loc=torch.zeros(data_dim), covariance_matrix=torch.eye(data_dim))\n",
    "#base_distribution = MultivariateUniform(-15, 15, data_dim)\n",
    "renormalization_flow = planar_flow.LayeredPlanarFlow(data_dim)\n",
    "epsilon = 2e-2 #gradient descent rate for RF parameters\n",
    "n = 20 #number of initial samples\n",
    "\n",
    "# MALA PARAMETERS\n",
    "time_step = 1e-1\n",
    "k_lang = 200\n",
    "k_max = 200\n",
    "\n",
    "# INITIALISATION\n",
    "initial_data = torch.rand(n*data_dim).reshape(n,data_dim)*20-10\n",
    "#initial_data = torch.rand(n*data_dim).reshape(n,data_dim)*10\n",
    "\n",
    "base_file = 'multivariate_normal-LayeredPlanarFlow-beta'\n",
    "\n",
    "def computation(beta):\n",
    "    model_name = base_file+\"\\\\beta\"+'{}'.format(beta)\n",
    "    model_file = getcwd()+\"\\\\saved_models\"+\"\\\\\"+model_name\n",
    "    RF_MCMC_parameters = [time_step, k_max, k_lang, epsilon]\n",
    "    history, array_of_model_configurations = paper_algorithm.NF_MCMC_algorithm(model_name, beta, U, BC, energy_parameters, renormalization_flow, initial_data, base_distribution, *RF_MCMC_parameters)\n",
    "    \n",
    "    kl_div = plot(beta, U, energy_parameters, model_file, renormalization_flow, base_distribution)\n",
    "    return kl_div\n",
    "\n",
    "num_cores = multiprocessing.cpu_count()\n",
    "with Parallel(n_jobs=num_cores) as parallel:\n",
    "    kl_div_list = parallel(delayed(computation)(beta) for beta in beta_list)\n",
    "\n",
    "txt_file = getcwd()+\"\\\\saved_models\"+\"\\\\\"+base_file+\"\\\\beta.txt\"\n",
    "savetxt(txt_file, column_stack((beta_list, kl_div_list)), delimiter=\"\\t\", header=\"layer\\tkl_div\")\n",
    "\n",
    "fig, ax = plt.subplots()\n",
    "\n",
    "ax.set_xlabel('Beta', fontsize=16)\n",
    "ax.set_ylabel('KL Divergence', fontsize=16)\n",
    "ax.scatter(beta_list, kl_div_list)\n",
    "ax.plot(beta_list, kl_div_list)\n",
    "ax.set_xscale('log')\n",
    "plt.tight_layout()\n",
    "fig.savefig(getcwd()+\"\\\\saved_models\"+\"\\\\\"+base_file+'\\\\beta')"
   ]
  },
  {
   "cell_type": "code",
   "execution_count": null,
   "metadata": {},
   "outputs": [],
   "source": []
  }
 ],
 "metadata": {
  "kernelspec": {
   "display_name": "Python 3",
   "language": "python",
   "name": "python3"
  },
  "language_info": {
   "codemirror_mode": {
    "name": "ipython",
    "version": 3
   },
   "file_extension": ".py",
   "mimetype": "text/x-python",
   "name": "python",
   "nbconvert_exporter": "python",
   "pygments_lexer": "ipython3",
   "version": "3.9.12"
  }
 },
 "nbformat": 4,
 "nbformat_minor": 2
}
