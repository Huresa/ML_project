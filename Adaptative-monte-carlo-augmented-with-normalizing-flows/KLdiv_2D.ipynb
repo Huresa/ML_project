{
 "cells": [
  {
   "cell_type": "code",
   "execution_count": 32,
   "metadata": {},
   "outputs": [],
   "source": [
    "import matplotlib.pyplot as plt\n",
    "from os import getcwd\n",
    "import torch\n",
    "from numpy import linspace, logspace, savetxt, column_stack\n",
    "from tqdm import tqdm\n",
    "from torch.distributions import multivariate_normal\n",
    "\n",
    "from algorithm_package.algorithm_package import paper_algorithm\n",
    "from energy_package.energy_package import two_param\n",
    "from rf_package.rf_package import planar_flow\n",
    "from plot_animation_package.plot_animation_package import density_2D\n",
    "\n",
    "import multiprocessing\n",
    "from joblib import Parallel, delayed"
   ]
  },
  {
   "cell_type": "code",
   "execution_count": 33,
   "metadata": {},
   "outputs": [],
   "source": [
    "def plot(beta, U, energy_parameters, model_file, renormalization_flow, base_distribution):\n",
    "\n",
    "    flow = renormalization_flow\n",
    "    flow.load_state_dict(torch.load(model_file+'\\\\model.pt'))\n",
    "    flow.eval()\n",
    "\n",
    "    fig, (ax1, ax2) = plt.subplots(1,2, figsize = (12,5))\n",
    "\n",
    "    xlim = [-15,15]\n",
    "    ylim = xlim\n",
    "    x = torch.linspace(* xlim,200)\n",
    "    y = torch.linspace(*ylim,200)\n",
    "\n",
    "    xx, yy = torch.meshgrid(x,y)\n",
    "\n",
    "    def log_rho_hat(x):\n",
    "        return base_distribution.log_prob((flow.inverse(x))[0]) + flow.inverse(x)[1]\n",
    "\n",
    "    z_flow = torch.exp(log_rho_hat(torch.stack([xx, yy], dim=-1).reshape(-1, 2)).detach()).reshape(xx.shape)\n",
    "    z_flow_norm = z_flow / torch.sum(z_flow)+1e-15\n",
    "    \n",
    "    ax1.pcolormesh(xx.numpy(),yy.numpy(),z_flow_norm.numpy())\n",
    "    ax1.set_title('Flow distribution')\n",
    "    ax1.set_xlabel('x')\n",
    "    ax1.set_ylabel('y')\n",
    "\n",
    "    z_target = torch.exp(-beta*U(torch.stack([xx, yy]), energy_parameters))\n",
    "    z_target_norm = z_target / torch.sum(z_target)+1e-15\n",
    "    \n",
    "    ax2.pcolormesh(xx.numpy(),yy.numpy(),z_target_norm.numpy())\n",
    "    ax2.set_title('Target distribution')\n",
    "    ax2.set_xlabel('x')\n",
    "\n",
    "    # Compute KL Divergence\n",
    "    kl_div = torch.sum(z_flow_norm * torch.log(z_flow_norm / z_target_norm))\n",
    "    \n",
    "    fig.savefig(model_file+'.png')\n",
    "\n",
    "    return kl_div"
   ]
  },
  {
   "cell_type": "code",
   "execution_count": 35,
   "metadata": {},
   "outputs": [
    {
     "data": {
      "image/png": "[encoded data removed]",
      "text/plain": [
       "<Figure size 432x288 with 1 Axes>"
      ]
     },
     "metadata": {
      "needs_background": "light"
     },
     "output_type": "display_data"
    }
   ],
   "source": [
    "torch.manual_seed(0)\n",
    "layer_list = linspace(1, 40, 11)\n",
    "\n",
    "# MODEL PARAMETERS\n",
    "data_dim = 2 #size of the parameter space\n",
    "beta = 1\n",
    "U = two_param.bistable_circle\n",
    "BC = two_param.bistable_circle_BC\n",
    "energy_parameters = []\n",
    "\n",
    "# RF PARAMETERS\n",
    "base_distribution = multivariate_normal.MultivariateNormal(loc=torch.zeros(data_dim), covariance_matrix=torch.eye(data_dim))\n",
    "renormalization_flow = planar_flow.LayeredPlanarFlow(data_dim)\n",
    "epsilon = 2e-2 #gradient descent rate for RF parameters\n",
    "n = 200 #number of initial samples\n",
    "\n",
    "# MALA PARAMETERS\n",
    "time_step = 1e-1\n",
    "k_lang = 10\n",
    "k_max = 200\n",
    "\n",
    "# INITIALISATION\n",
    "initial_data = torch.rand(n*data_dim).reshape(n,data_dim)*20-10\n",
    "\n",
    "base_file = 'multivariate_normal-LayeredPlanarFlow-layer'\n",
    "\n",
    "def computation(layer):\n",
    "    layer = int(layer)\n",
    "    model_name = base_file+\"\\\\layer\"+'{}'.format(layer)\n",
    "    model_file = getcwd()+\"\\\\saved_models\"+\"\\\\\"+model_name\n",
    "    RF_MCMC_parameters = [time_step, k_max, k_lang, epsilon]\n",
    "    history, array_of_model_configurations = paper_algorithm.NF_MCMC_algorithm(model_name, beta, U, BC, energy_parameters, renormalization_flow, initial_data, base_distribution, *RF_MCMC_parameters)\n",
    "    \n",
    "    kl_div = plot(beta, U, energy_parameters, model_file, renormalization_flow, base_distribution)\n",
    "    return kl_div\n",
    "\n",
    "num_cores = multiprocessing.cpu_count()\n",
    "with Parallel(n_jobs=num_cores) as parallel:\n",
    "    kl_div_list = parallel(delayed(computation)(layer) for layer in layer_list)\n",
    "\n",
    "txt_file = getcwd()+\"\\\\saved_models\"+\"\\\\\"+base_file+\"\\\\layer.txt\"\n",
    "savetxt(txt_file, column_stack((layer_list, kl_div_list)), delimiter=\"\\t\", header=\"layer\\tkl_div\")\n",
    "\n",
    "fig, ax = plt.subplots()\n",
    "\n",
    "ax.set_xlabel('Number of RF layers', fontsize=16)\n",
    "ax.set_ylabel('KL Divergence', fontsize=16)\n",
    "ax.scatter(layer_list, kl_div_list)\n",
    "ax.plot(layer_list, kl_div_list)\n",
    "plt.tight_layout()\n",
    "fig.savefig(getcwd()+\"\\\\saved_models\"+\"\\\\\"+base_file+'\\\\layer')"
   ]
  },
  {
   "cell_type": "code",
   "execution_count": null,
   "metadata": {},
   "outputs": [],
   "source": []
  }
 ],
 "metadata": {
  "kernelspec": {
   "display_name": "Python 3",
   "language": "python",
   "name": "python3"
  },
  "language_info": {
   "codemirror_mode": {
    "name": "ipython",
    "version": 3
   },
   "file_extension": ".py",
   "mimetype": "text/x-python",
   "name": "python",
   "nbconvert_exporter": "python",
   "pygments_lexer": "ipython3",
   "version": "3.9.12"
  }
 },
 "nbformat": 4,
 "nbformat_minor": 2
}
