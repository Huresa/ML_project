{
 "cells": [
  {
   "cell_type": "code",
   "execution_count": 1,
   "metadata": {},
   "outputs": [],
   "source": [
    "from os import getcwd\n",
    "from os.path import dirname\n",
    "import torch\n",
    "from torch.distributions import multivariate_normal\n",
    "from torch.distributions import uniform\n",
    "\n",
    "from algorithm_package.algorithm_package import paper_algorithm\n",
    "#from energy_package.energy_package import two_param\n",
    "#from energy_package.energy_package import XY\n",
    "from energy_package.energy_package import particle_pairwise_interaction\n",
    "from rf_package.rf_package import planar_flow\n",
    "#from plot_animation_package.plot_animation_package import density_2D\n",
    "#from plot_animation_package.plot_animation_package import XYd2n2\n",
    "#from plot_animation_package.plot_animation_package import XYd2n1\n",
    "#from plot_animation_package.plot_animation_package import XYd2n3\n",
    "from plot_animation_package.plot_animation_package import particle_pairwise_interaction_plot\n"
   ]
  },
  {
   "cell_type": "code",
   "execution_count": 2,
   "metadata": {},
   "outputs": [
    {
     "name": "stdout",
     "output_type": "stream",
     "text": [
      "Sample: tensor([0.1420, 0.4432, 0.8823])\n",
      "Log Probability: tensor(0., grad_fn=<SumBackward1>)\n",
      "Gradient with respect to low: tensor(3.)\n",
      "Gradient with respect to high: tensor(-3.)\n"
     ]
    }
   ],
   "source": [
    "import torch\n",
    "from torch.distributions.uniform import Uniform\n",
    "\n",
    "class MultivariateUniform(Uniform):\n",
    "    def __init__(self, low, high, data_dim):\n",
    "        super(MultivariateUniform, self).__init__(low, high)\n",
    "        self.data_dim = data_dim\n",
    "\n",
    "    def sample(self):\n",
    "        return super().sample(torch.Size([self.data_dim]))\n",
    "\n",
    "    def log_prob(self, value):\n",
    "        if value.dim() < 1 or value.size(-1) != self.data_dim:\n",
    "            raise ValueError(\"Last dimension of value must be of size data_dim\")\n",
    "\n",
    "        # Calculate log_prob for each dimension and sum them\n",
    "        log_prob_per_dim = super().log_prob(value)\n",
    "        return log_prob_per_dim.sum(-1)\n",
    "\n",
    "import torch\n",
    "from torch.autograd import grad\n",
    "\n",
    "# Create a MultivariateUniform distribution instance\n",
    "data_dim = 3\n",
    "low = torch.tensor(0.0, requires_grad=True)\n",
    "high = torch.tensor(1.0, requires_grad=True)\n",
    "uniform_dist = MultivariateUniform(low, high, data_dim)\n",
    "\n",
    "# Generate a sample\n",
    "sample = uniform_dist.sample()\n",
    "\n",
    "# Compute log probability\n",
    "log_prob = uniform_dist.log_prob(sample)\n",
    "\n",
    "# Calculate gradients\n",
    "gradient_low = grad(log_prob, low, retain_graph=True)[0]\n",
    "gradient_high = grad(log_prob, high)[0]\n",
    "\n",
    "print(\"Sample:\", sample)\n",
    "print(\"Log Probability:\", log_prob)\n",
    "print(\"Gradient with respect to low:\", gradient_low)\n",
    "print(\"Gradient with respect to high:\", gradient_high)\n"
   ]
  },
  {
   "cell_type": "code",
   "execution_count": 17,
   "metadata": {},
   "outputs": [
    {
     "name": "stderr",
     "output_type": "stream",
     "text": [
      "  0%|          | 0/199 [00:00<?, ?it/s]"
     ]
    },
    {
     "name": "stderr",
     "output_type": "stream",
     "text": [
      "100%|██████████| 199/199 [00:40<00:00,  4.86it/s]\n"
     ]
    }
   ],
   "source": [
    "# MODEL PARAMETERS\n",
    "N = 200 #number of particles\n",
    "dimensions = 2 #dimensions of the model space\n",
    "data_dim = N*2 #size of the parameter space\n",
    "beta = 1e-3\n",
    "#U = two_param.bistable_circle\n",
    "#BC = two_param.bistable_circle_BC\n",
    "U = particle_pairwise_interaction.U\n",
    "BC = particle_pairwise_interaction.BC\n",
    "\n",
    "a = 0.01 #a<<L\n",
    "L = 10\n",
    "energy_parameters = [a, L]\n",
    "\n",
    "# SAVING PARAMETER\n",
    "model_name = 'particle_pairwise_interaction-multivariate_normal-LayeredPlanarFlow-beta1.1e-3'\n",
    "model_file = getcwd()+\"\\\\saved_models\"+\"\\\\\"+model_name+\"\\\\\"+model_name\n",
    "\n",
    "# RF PARAMETERS\n",
    "n = 10 #number of initial samples\n",
    "\n",
    "#base_distribution = MultivariateUniform(-1e3*L, 1e3*L, data_dim)\n",
    "base_distribution = multivariate_normal.MultivariateNormal(loc=torch.zeros(data_dim), covariance_matrix=torch.eye(data_dim))\n",
    "renormalization_flow = planar_flow.LayeredPlanarFlow(data_dim)\n",
    "epsilon = 1e-2 #gradient descent rate for RF parameters\n",
    "\n",
    "# MALA PARAMETERS\n",
    "time_step = 1e-1\n",
    "k_lang = 10\n",
    "\n",
    "# INITIALISATION\n",
    "initial_data = torch.rand(n*data_dim).reshape(n,data_dim)*2*L-L\n",
    "k_max = 200\n",
    "\n",
    "# RUN\n",
    "RF_MCMC_parameters = [time_step, k_max, k_lang, epsilon]\n",
    "history, array_of_model_configurations = paper_algorithm.NF_MCMC_algorithm(model_name, beta, U, BC, energy_parameters, renormalization_flow, initial_data, base_distribution, *RF_MCMC_parameters)"
   ]
  },
  {
   "cell_type": "code",
   "execution_count": 18,
   "metadata": {},
   "outputs": [],
   "source": [
    "model_name = 'particle_pairwise_interaction-multivariate_normal-LayeredPlanarFlow-beta1.1e-3'\n",
    "model_file = getcwd()+\"\\\\saved_models\"+\"\\\\\"+model_name+\"\\\\\"+model_name"
   ]
  },
  {
   "cell_type": "code",
   "execution_count": 19,
   "metadata": {},
   "outputs": [
    {
     "data": {
      "image/png": "[encoded data removed]",
      "text/plain": [
       "<Figure size 360x720 with 1 Axes>"
      ]
     },
     "metadata": {
      "needs_background": "light"
     },
     "output_type": "display_data"
    }
   ],
   "source": [
    "import matplotlib.pyplot as plt\n",
    "path = dirname(model_file)\n",
    "history = torch.load(path + '\\\\history.pt').detach()\n",
    "\n",
    "fig, ax = plt.subplots(figsize = (5,10))\n",
    "ax.imshow(history)\n",
    "ax.set_xlabel('initial point')\n",
    "ax.set_ylabel('iteration')\n",
    "fig.savefig(path + '\\\\history.png')"
   ]
  },
  {
   "cell_type": "code",
   "execution_count": 20,
   "metadata": {},
   "outputs": [
    {
     "name": "stderr",
     "output_type": "stream",
     "text": [
      "MovieWriter imagemagick unavailable; using Pillow instead.\n"
     ]
    },
    {
     "name": "stdout",
     "output_type": "stream",
     "text": [
      "{'beta': 1300.0, 'n': 10, 'N': 400, 'time_step': 0.1, 'k_max': 200, 'k_lang': 10, 'epsilon': 0.01, 'energy_parameters': [0.01, 10.0]}\n"
     ]
    },
    {
     "data": {
      "image/png": "[encoded data removed]",
      "text/plain": [
       "<Figure size 432x288 with 1 Axes>"
      ]
     },
     "metadata": {
      "needs_background": "light"
     },
     "output_type": "display_data"
    }
   ],
   "source": [
    "model_name = 'particle_pairwise_interaction-multivariate_normal-LayeredPlanarFlow-beta1.3e3'\n",
    "model_file = getcwd()+\"\\\\saved_models\"+\"\\\\\"+model_name+\"\\\\\"+model_name\n",
    "trajectory_id = 0\n",
    "path = dirname(model_file)\n",
    "history = torch.load(path + '\\\\history.pt').detach()\n",
    "particle_pairwise_interaction_plot.animation(model_file, trajectory_id, history)"
   ]
  },
  {
   "cell_type": "code",
   "execution_count": null,
   "metadata": {},
   "outputs": [],
   "source": []
  },
  {
   "cell_type": "code",
   "execution_count": null,
   "metadata": {},
   "outputs": [],
   "source": []
  }
 ],
 "metadata": {
  "kernelspec": {
   "display_name": "base",
   "language": "python",
   "name": "python3"
  },
  "language_info": {
   "codemirror_mode": {
    "name": "ipython",
    "version": 3
   },
   "file_extension": ".py",
   "mimetype": "text/x-python",
   "name": "python",
   "nbconvert_exporter": "python",
   "pygments_lexer": "ipython3",
   "version": "3.9.12"
  }
 },
 "nbformat": 4,
 "nbformat_minor": 2
}
