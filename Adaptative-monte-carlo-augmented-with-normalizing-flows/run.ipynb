{
 "cells": [
  {
   "cell_type": "code",
   "execution_count": 1,
   "metadata": {},
   "outputs": [],
   "source": [
    "import matplotlib.pyplot as plt\n",
    "from os import getcwd\n",
    "import torch\n",
    "from torch.distributions import multivariate_normal\n",
    "\n",
    "from algorithm_package.algorithm_package import paper_algorithm\n",
    "#from energy_package.energy_package import two_param\n",
    "from energy_package.energy_package import XY\n",
    "from rf_package.rf_package import planar_flow\n",
    "#from plot_animation_package.plot_animation_package import density_2D\n",
    "from plot_animation_package.plot_animation_package import XYd2n2\n",
    "#from plot_animation_package.plot_animation_package import XYd2n1\n",
    "#from plot_animation_package.plot_animation_package import XYd2n3"
   ]
  },
  {
   "cell_type": "code",
   "execution_count": 4,
   "metadata": {},
   "outputs": [
    {
     "name": "stderr",
     "output_type": "stream",
     "text": [
      "  0%|          | 0/399 [00:00<?, ?it/s]"
     ]
    },
    {
     "name": "stderr",
     "output_type": "stream",
     "text": [
      "100%|██████████| 399/399 [00:42<00:00,  9.50it/s]\n"
     ]
    }
   ],
   "source": [
    "# MODEL PARAMETERS\n",
    "N = 20 #side for XY models\n",
    "dimensions = 2 #dimensions of XY model\n",
    "data_dim = N**dimensions #size of the parameter space\n",
    "beta = 1\n",
    "#U = two_param.bistable_circle\n",
    "#BC = two_param.bistable_circle_BC\n",
    "U = XY.XYd2n2\n",
    "BC = XY.XYd2n2_BC\n",
    "energy_parameters = [1, 1, 1, 1*torch.pi] # J, mu, h, theta]\n",
    "\n",
    "# SAVING PARAMETER\n",
    "model_name = 'XYd2n2-multivariate_normal-LayeredPlanarFlow-beta1-thetapi-h1-J1_v2'\n",
    "model_file = getcwd()+\"\\\\saved_models\"+\"\\\\\"+model_name+\"\\\\\"+model_name\n",
    "\n",
    "# RF PARAMETERS\n",
    "n = 10 #number of initial samples\n",
    "base_distribution = multivariate_normal.MultivariateNormal(loc=torch.zeros(data_dim), covariance_matrix=torch.eye(data_dim))\n",
    "renormalization_flow = planar_flow.LayeredPlanarFlow(data_dim)\n",
    "epsilon = 1e-2 #gradient descent rate for RF parameters\n",
    "\n",
    "# MALA PARAMETERS\n",
    "time_step = 1e-1\n",
    "k_lang = 20\n",
    "\n",
    "# INITIALISATION\n",
    "initial_data = BC(torch.rand(n*data_dim).reshape(n,data_dim).t()*2*torch.pi).t()\n",
    "k_max = 400\n",
    "\n",
    "# RUN\n",
    "RF_MCMC_parameters = [time_step, k_max, k_lang, epsilon]\n",
    "history, array_of_model_configurations = paper_algorithm.NF_MCMC_algorithm(model_name, beta, U, BC, energy_parameters, renormalization_flow, initial_data, base_distribution, *RF_MCMC_parameters)"
   ]
  },
  {
   "cell_type": "code",
   "execution_count": null,
   "metadata": {},
   "outputs": [],
   "source": []
  }
 ],
 "metadata": {
  "kernelspec": {
   "display_name": "base",
   "language": "python",
   "name": "python3"
  },
  "language_info": {
   "codemirror_mode": {
    "name": "ipython",
    "version": 3
   },
   "file_extension": ".py",
   "mimetype": "text/x-python",
   "name": "python",
   "nbconvert_exporter": "python",
   "pygments_lexer": "ipython3",
   "version": "3.9.12"
  }
 },
 "nbformat": 4,
 "nbformat_minor": 2
}
