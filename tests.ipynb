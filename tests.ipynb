{
 "cells": [
  {
   "cell_type": "code",
   "execution_count": 1,
   "metadata": {},
   "outputs": [],
   "source": [
    "import torch\n",
    "import numpy as np"
   ]
  },
  {
   "cell_type": "code",
   "execution_count": 2,
   "metadata": {},
   "outputs": [
    {
     "data": {
      "text/plain": [
       "tensor([6.2267e-01, 8.8225e-01, 1.6017e+00, 4.0576e+00, 1.3697e+00, 3.1738e+00,\n",
       "        5.4004e+00, 3.9772e+00, 2.8005e+00, 1.1422e-04, 2.2291e+00, 5.8529e+00,\n",
       "        5.6009e+00, 2.1803e+00, 3.8433e+00, 2.5597e+00, 1.8808e+00, 1.2478e+00,\n",
       "        1.3530e+00, 4.3770e+00, 5.8572e+00, 5.9721e+00, 1.9647e+00, 1.1781e+00,\n",
       "        4.0331e+00, 1.9024e+00, 1.2722e+00, 1.2331e+00, 5.6867e+00, 8.0866e-01,\n",
       "        2.0033e+00, 3.6220e+00, 2.8571e+00, 4.1362e+00, 1.0353e+00, 6.3968e-02,\n",
       "        2.2430e+00, 2.5394e+00, 4.5801e+00, 4.5868e+00, 3.8821e+00, 3.9557e+00,\n",
       "        4.4364e+00, 8.2157e-01, 1.0889e+00, 5.2438e+00, 3.4970e+00, 3.9514e+00,\n",
       "        5.9059e+00, 3.5791e+00, 5.3664e+00, 4.7738e+00, 5.2117e-01, 7.5724e-01,\n",
       "        5.4668e+00, 1.1236e+00, 4.4733e+00, 4.9117e+00, 4.5462e+00, 1.7656e+00,\n",
       "        4.2021e-01, 3.8261e+00, 3.9240e+00, 2.7635e+00])"
      ]
     },
     "execution_count": 2,
     "metadata": {},
     "output_type": "execute_result"
    }
   ],
   "source": [
    "N = 4\n",
    "configuration = torch.rand((N**3,))*2*np.pi\n",
    "configuration"
   ]
  },
  {
   "cell_type": "code",
   "execution_count": 3,
   "metadata": {},
   "outputs": [
    {
     "data": {
      "text/plain": [
       "tensor([[[6.2267e-01, 8.8225e-01, 1.6017e+00, 4.0576e+00],\n",
       "         [1.3697e+00, 3.1738e+00, 5.4004e+00, 3.9772e+00],\n",
       "         [2.8005e+00, 1.1422e-04, 2.2291e+00, 5.8529e+00],\n",
       "         [5.6009e+00, 2.1803e+00, 3.8433e+00, 2.5597e+00]],\n",
       "\n",
       "        [[1.8808e+00, 1.2478e+00, 1.3530e+00, 4.3770e+00],\n",
       "         [5.8572e+00, 5.9721e+00, 1.9647e+00, 1.1781e+00],\n",
       "         [4.0331e+00, 1.9024e+00, 1.2722e+00, 1.2331e+00],\n",
       "         [5.6867e+00, 8.0866e-01, 2.0033e+00, 3.6220e+00]],\n",
       "\n",
       "        [[2.8571e+00, 4.1362e+00, 1.0353e+00, 6.3968e-02],\n",
       "         [2.2430e+00, 2.5394e+00, 4.5801e+00, 4.5868e+00],\n",
       "         [3.8821e+00, 3.9557e+00, 4.4364e+00, 8.2157e-01],\n",
       "         [1.0889e+00, 5.2438e+00, 3.4970e+00, 3.9514e+00]],\n",
       "\n",
       "        [[5.9059e+00, 3.5791e+00, 5.3664e+00, 4.7738e+00],\n",
       "         [5.2117e-01, 7.5724e-01, 5.4668e+00, 1.1236e+00],\n",
       "         [4.4733e+00, 4.9117e+00, 4.5462e+00, 1.7656e+00],\n",
       "         [4.2021e-01, 3.8261e+00, 3.9240e+00, 2.7635e+00]]])"
      ]
     },
     "execution_count": 3,
     "metadata": {},
     "output_type": "execute_result"
    }
   ],
   "source": [
    "lattice = configuration.view(N,N,N)\n",
    "lattice"
   ]
  },
  {
   "cell_type": "code",
   "execution_count": 4,
   "metadata": {},
   "outputs": [
    {
     "data": {
      "text/plain": [
       "tensor([[[5.6009e+00, 2.1803e+00, 3.8433e+00, 2.5597e+00],\n",
       "         [6.2267e-01, 8.8225e-01, 1.6017e+00, 4.0576e+00],\n",
       "         [1.3697e+00, 3.1738e+00, 5.4004e+00, 3.9772e+00],\n",
       "         [2.8005e+00, 1.1422e-04, 2.2291e+00, 5.8529e+00]],\n",
       "\n",
       "        [[5.6867e+00, 8.0866e-01, 2.0033e+00, 3.6220e+00],\n",
       "         [1.8808e+00, 1.2478e+00, 1.3530e+00, 4.3770e+00],\n",
       "         [5.8572e+00, 5.9721e+00, 1.9647e+00, 1.1781e+00],\n",
       "         [4.0331e+00, 1.9024e+00, 1.2722e+00, 1.2331e+00]],\n",
       "\n",
       "        [[1.0889e+00, 5.2438e+00, 3.4970e+00, 3.9514e+00],\n",
       "         [2.8571e+00, 4.1362e+00, 1.0353e+00, 6.3968e-02],\n",
       "         [2.2430e+00, 2.5394e+00, 4.5801e+00, 4.5868e+00],\n",
       "         [3.8821e+00, 3.9557e+00, 4.4364e+00, 8.2157e-01]],\n",
       "\n",
       "        [[4.2021e-01, 3.8261e+00, 3.9240e+00, 2.7635e+00],\n",
       "         [5.9059e+00, 3.5791e+00, 5.3664e+00, 4.7738e+00],\n",
       "         [5.2117e-01, 7.5724e-01, 5.4668e+00, 1.1236e+00],\n",
       "         [4.4733e+00, 4.9117e+00, 4.5462e+00, 1.7656e+00]]])"
      ]
     },
     "execution_count": 4,
     "metadata": {},
     "output_type": "execute_result"
    }
   ],
   "source": [
    "torch.roll(lattice, shifts=1, dims=1)\n"
   ]
  },
  {
   "cell_type": "code",
   "execution_count": 19,
   "metadata": {},
   "outputs": [],
   "source": [
    "def XYd2n3_BC(configuration):\n",
    "    N = int(len(configuration) ** (1/3))+1 #for N>=3\n",
    "    configuration = configuration%(2*torch.pi)\n",
    "    copy_config = torch.zeros_like(configuration)\n",
    "    copy_config[N-1::N] = configuration[::N]-configuration[N-1::N]\n",
    "    copy_config[-N**2:] = configuration[:N**2]-configuration[-N**2:]\n",
    "    for k in range(N):\n",
    "        copy_config[(k+1)*N**2-N:(k+1)*N**2] = configuration[k*N**2:k*N**2+N]-configuration[(k+1)*N**2-N:(k+1)*N**2]\n",
    "    return configuration + copy_config"
   ]
  },
  {
   "cell_type": "code",
   "execution_count": 22,
   "metadata": {},
   "outputs": [
    {
     "data": {
      "text/plain": [
       "tensor([[[6.2267e-01, 8.8225e-01, 1.6017e+00, 6.2267e-01],\n",
       "         [1.3697e+00, 3.1738e+00, 5.4004e+00, 1.3697e+00],\n",
       "         [2.8005e+00, 1.1422e-04, 2.2291e+00, 2.8005e+00],\n",
       "         [6.2267e-01, 8.8225e-01, 1.6017e+00, 4.0576e+00]],\n",
       "\n",
       "        [[1.8808e+00, 1.2478e+00, 1.3530e+00, 1.8808e+00],\n",
       "         [5.8572e+00, 5.9721e+00, 1.9647e+00, 5.8572e+00],\n",
       "         [4.0331e+00, 1.9024e+00, 1.2722e+00, 4.0331e+00],\n",
       "         [1.8808e+00, 1.2478e+00, 1.3530e+00, 4.3770e+00]],\n",
       "\n",
       "        [[2.8571e+00, 4.1362e+00, 1.0353e+00, 2.8571e+00],\n",
       "         [2.2430e+00, 2.5394e+00, 4.5801e+00, 2.2430e+00],\n",
       "         [3.8821e+00, 3.9557e+00, 4.4364e+00, 3.8821e+00],\n",
       "         [2.8571e+00, 4.1362e+00, 1.0353e+00, 6.3968e-02]],\n",
       "\n",
       "        [[6.2267e-01, 8.8225e-01, 1.6017e+00, 4.0576e+00],\n",
       "         [1.3697e+00, 3.1738e+00, 5.4004e+00, 3.9772e+00],\n",
       "         [2.8005e+00, 1.1444e-04, 2.2291e+00, 5.8529e+00],\n",
       "         [5.9059e+00, 3.5791e+00, 5.3664e+00, 4.7738e+00]]])"
      ]
     },
     "execution_count": 22,
     "metadata": {},
     "output_type": "execute_result"
    }
   ],
   "source": [
    "XYd2n3_BC(configuration).view(N,N,N)\n"
   ]
  },
  {
   "cell_type": "code",
   "execution_count": 23,
   "metadata": {},
   "outputs": [
    {
     "data": {
      "text/plain": [
       "tensor([[[6.2267e-01, 8.8225e-01, 1.6017e+00, 4.0576e+00],\n",
       "         [1.3697e+00, 3.1738e+00, 5.4004e+00, 3.9772e+00],\n",
       "         [2.8005e+00, 1.1422e-04, 2.2291e+00, 5.8529e+00],\n",
       "         [5.6009e+00, 2.1803e+00, 3.8433e+00, 2.5597e+00]],\n",
       "\n",
       "        [[1.8808e+00, 1.2478e+00, 1.3530e+00, 4.3770e+00],\n",
       "         [5.8572e+00, 5.9721e+00, 1.9647e+00, 1.1781e+00],\n",
       "         [4.0331e+00, 1.9024e+00, 1.2722e+00, 1.2331e+00],\n",
       "         [5.6867e+00, 8.0866e-01, 2.0033e+00, 3.6220e+00]],\n",
       "\n",
       "        [[2.8571e+00, 4.1362e+00, 1.0353e+00, 6.3968e-02],\n",
       "         [2.2430e+00, 2.5394e+00, 4.5801e+00, 4.5868e+00],\n",
       "         [3.8821e+00, 3.9557e+00, 4.4364e+00, 8.2157e-01],\n",
       "         [1.0889e+00, 5.2438e+00, 3.4970e+00, 3.9514e+00]],\n",
       "\n",
       "        [[5.9059e+00, 3.5791e+00, 5.3664e+00, 4.7738e+00],\n",
       "         [5.2117e-01, 7.5724e-01, 5.4668e+00, 1.1236e+00],\n",
       "         [4.4733e+00, 4.9117e+00, 4.5462e+00, 1.7656e+00],\n",
       "         [4.2021e-01, 3.8261e+00, 3.9240e+00, 2.7635e+00]]])"
      ]
     },
     "execution_count": 23,
     "metadata": {},
     "output_type": "execute_result"
    }
   ],
   "source": [
    "lattice"
   ]
  },
  {
   "cell_type": "code",
   "execution_count": 109,
   "metadata": {},
   "outputs": [],
   "source": [
    "X = torch.tensor([1,2,3,4])"
   ]
  },
  {
   "cell_type": "code",
   "execution_count": 113,
   "metadata": {},
   "outputs": [
    {
     "data": {
      "text/plain": [
       "tensor([3, 4])"
      ]
     },
     "execution_count": 113,
     "metadata": {},
     "output_type": "execute_result"
    }
   ],
   "source": [
    "X[2:]"
   ]
  },
  {
   "cell_type": "code",
   "execution_count": 114,
   "metadata": {},
   "outputs": [
    {
     "data": {
      "text/plain": [
       "tensor([1, 2])"
      ]
     },
     "execution_count": 114,
     "metadata": {},
     "output_type": "execute_result"
    }
   ],
   "source": [
    "X[:2]"
   ]
  },
  {
   "cell_type": "code",
   "execution_count": 6,
   "metadata": {},
   "outputs": [
    {
     "data": {
      "text/plain": [
       "[<matplotlib.lines.Line2D at 0x1f92c33cb20>]"
      ]
     },
     "execution_count": 6,
     "metadata": {},
     "output_type": "execute_result"
    },
    {
     "data": {
      "image/png": "[encoded data removed]",
      "text/plain": [
       "<Figure size 432x288 with 1 Axes>"
      ]
     },
     "metadata": {
      "needs_background": "light"
     },
     "output_type": "display_data"
    }
   ],
   "source": [
    "import numpy as np\n",
    "import matplotlib.pyplot as plt\n",
    "\n",
    "x = np.linspace(0,30, 31)\n",
    "\n",
    "y = x**3\n",
    "plt.plot(x, y**(1/3)-x)\n"
   ]
  },
  {
   "cell_type": "code",
   "execution_count": 10,
   "metadata": {},
   "outputs": [
    {
     "data": {
      "text/plain": [
       "15.001481335186401"
      ]
     },
     "execution_count": 10,
     "metadata": {},
     "output_type": "execute_result"
    }
   ],
   "source": [
    "(15**3+1)**(1/3)"
   ]
  },
  {
   "cell_type": "code",
   "execution_count": 1,
   "metadata": {},
   "outputs": [
    {
     "data": {
      "text/plain": [
       "3375"
      ]
     },
     "execution_count": 1,
     "metadata": {},
     "output_type": "execute_result"
    }
   ],
   "source": [
    "15*15*15"
   ]
  },
  {
   "cell_type": "code",
   "execution_count": 11,
   "metadata": {},
   "outputs": [
    {
     "data": {
      "text/plain": [
       "<matplotlib.legend.Legend at 0x2d5b0b295e0>"
      ]
     },
     "execution_count": 11,
     "metadata": {},
     "output_type": "execute_result"
    },
    {
     "data": {
      "image/png": "[encoded data removed]",
      "text/plain": [
       "<Figure size 432x288 with 2 Axes>"
      ]
     },
     "metadata": {
      "needs_background": "light"
     },
     "output_type": "display_data"
    }
   ],
   "source": [
    "import matplotlib.pyplot as plt\n",
    "import numpy as np\n",
    "\n",
    "fig, (ax1, ax2) = plt.subplots(2,1)\n",
    "\n",
    "x = np.linspace(0,1,100)\n",
    "\n",
    "ax1.plot(x, x**2, label='hello')\n",
    "ax2.plot(x, x**2, label='hello')\n",
    "\n",
    "ax1.legend()\n",
    "\n"
   ]
  },
  {
   "cell_type": "code",
   "execution_count": 17,
   "metadata": {},
   "outputs": [],
   "source": [
    "import torch\n",
    "\n",
    "def U(configuration, energy_parameters):\n",
    "    x, y = configuration[0], configuration[1]\n",
    "    a, L = energy_parameters\n",
    "\n",
    "    N = configuration.shape[1]\n",
    "    total_W = 0    \n",
    "    for k in range(1, N):\n",
    "        deltax_sqrd = (x - torch.roll(x, shifts=k))**2 #twice too much\n",
    "        deltay_sqrd = (y - torch.roll(y, shifts=k))**2 #twice too much\n",
    "        r_sqrd = deltax_sqrd+deltay_sqrd\n",
    "        sum_W = -torch.sum(torch.exp(-r_sqrd/(2*a**2)))/2#removes the duplicates\n",
    "        total_W += sum_W\n",
    "    return 1/N * total_W"
   ]
  },
  {
   "cell_type": "code",
   "execution_count": 28,
   "metadata": {},
   "outputs": [],
   "source": [
    "def U(configuration, energy_parameters):\n",
    "    x, y = configuration[0], configuration[1]\n",
    "    a, L = energy_parameters\n",
    "\n",
    "    N = configuration.shape[1]\n",
    "\n",
    "    # Creating tensors of shifted indices\n",
    "    k_values = torch.arange(1, N)\n",
    "    rolled_x = torch.stack([torch.roll(x, shifts=int(k)) for k in k_values])\n",
    "    rolled_y = torch.stack([torch.roll(y, shifts=int(k)) for k in k_values])\n",
    "\n",
    "    # Calculating squared differences\n",
    "    deltax_sqrd = (x.unsqueeze(0) - rolled_x) ** 2\n",
    "    deltay_sqrd = (y.unsqueeze(0) - rolled_y) ** 2\n",
    "    r_sqrd = deltax_sqrd + deltay_sqrd\n",
    "\n",
    "    # Computing W\n",
    "    sum_W = -torch.sum(torch.exp(-r_sqrd / (2 * a ** 2)), dim=1) / 2\n",
    "    total_W = torch.sum(sum_W)\n",
    "\n",
    "    return 1 / N * total_W"
   ]
  },
  {
   "cell_type": "code",
   "execution_count": 31,
   "metadata": {},
   "outputs": [],
   "source": []
  },
  {
   "cell_type": "code",
   "execution_count": 27,
   "metadata": {},
   "outputs": [],
   "source": [
    "import torch\n",
    "\n",
    "def U(configuration, energy_parameters):\n",
    "    a, L = energy_parameters\n",
    "    N = configuration.shape[0] // 2\n",
    "    shifts = torch.arange(2, 2 * N, 2).unsqueeze(1) # Create a tensor of shifts\n",
    "    shifted_configs = torch.stack([torch.roll(configuration, shifts=int(s), dims=0) for s in shifts[:,0]], dim=0)\n",
    "\n",
    "    deltar = (configuration - shifted_configs)**2\n",
    "    r_sqrd = deltar.view(N-1, -1, 2).sum(dim=2)\n",
    "    sum_W = -torch.sum(torch.exp(-r_sqrd / (2 * a**2)), dim=1) / 2\n",
    "    total_W = torch.sum(sum_W)\n",
    "\n",
    "    return 1/N * total_W\n"
   ]
  },
  {
   "cell_type": "code",
   "execution_count": 43,
   "metadata": {},
   "outputs": [],
   "source": [
    "import torch\n",
    "\n",
    "def U(configuration, energy_parameters):\n",
    "    a, L = energy_parameters\n",
    "    N = configuration.shape[0] // 2\n",
    "    shifts = torch.arange(2, 2 * N, 2) # Create a tensor of shifts\n",
    "    shifted_configs = torch.stack([torch.roll(configuration, shifts=int(s), dims=0) for s in shifts], dim=0)\n",
    "    #print(shifted_configs)\n",
    "    deltaxy_sqrd = (configuration - shifted_configs)**2\n",
    "    r_sqrd = deltaxy_sqrd.view(N-1, -1, 2).sum(dim=2)\n",
    "\n",
    "    sum_W = -torch.sum(torch.sum(torch.exp(-r_sqrd / (2 * a**2)), dim=1)) / 2\n",
    "    return 1/N * sum_W\n",
    "\n",
    "configuration = torch.tensor([10,10,-10,-10,0,0])\n",
    "a = 1\n",
    "L = 1\n",
    "energy_parameters = [a, L]"
   ]
  },
  {
   "cell_type": "code",
   "execution_count": 44,
   "metadata": {},
   "outputs": [
    {
     "data": {
      "text/plain": [
       "tensor(-2.5223e-44)"
      ]
     },
     "execution_count": 44,
     "metadata": {},
     "output_type": "execute_result"
    }
   ],
   "source": [
    "U(configuration, energy_parameters)"
   ]
  },
  {
   "cell_type": "code",
   "execution_count": 80,
   "metadata": {},
   "outputs": [
    {
     "name": "stdout",
     "output_type": "stream",
     "text": [
      "tensor(0.)\n",
      "tensor([0.1831, 0.0879])\n"
     ]
    },
    {
     "data": {
      "text/plain": [
       "tensor([0.])"
      ]
     },
     "execution_count": 80,
     "metadata": {},
     "output_type": "execute_result"
    }
   ],
   "source": [
    "\n",
    "\n",
    "\n",
    "# Example usage\n",
    "data_dim = 2\n",
    "low = 0   # Lower bound for each dimension\n",
    "high = 1  # Upper bound for each dimension\n",
    "uniform_dist = MultivariateUniform(low, high, data_dim)\n",
    "samples = uniform_dist.sample()  # Generate 10 samples\n",
    "\n",
    "print(uniform_dist.log_prob(torch.tensor([0.3,0.1])))\n",
    "print(samples)"
   ]
  },
  {
   "cell_type": "code",
   "execution_count": 59,
   "metadata": {},
   "outputs": [
    {
     "ename": "TypeError",
     "evalue": "__init__() missing 2 required positional arguments: 'high' and 'data_dim'",
     "output_type": "error",
     "traceback": [
      "\u001b[1;31m---------------------------------------------------------------------------\u001b[0m",
      "\u001b[1;31mTypeError\u001b[0m                                 Traceback (most recent call last)",
      "Input \u001b[1;32mIn [59]\u001b[0m, in \u001b[0;36m<cell line: 1>\u001b[1;34m()\u001b[0m\n\u001b[1;32m----> 1\u001b[0m \u001b[43mMultivariateUniform\u001b[49m\u001b[43m(\u001b[49m\u001b[38;5;241;43m3\u001b[39;49m\u001b[43m)\u001b[49m\u001b[38;5;241m.\u001b[39msample()\n",
      "\u001b[1;31mTypeError\u001b[0m: __init__() missing 2 required positional arguments: 'high' and 'data_dim'"
     ]
    }
   ],
   "source": [
    "MultivariateUniform(3).sample()"
   ]
  },
  {
   "cell_type": "code",
   "execution_count": 1,
   "metadata": {},
   "outputs": [
    {
     "ename": "NameError",
     "evalue": "name 'N' is not defined",
     "output_type": "error",
     "traceback": [
      "\u001b[1;31m---------------------------------------------------------------------------\u001b[0m",
      "\u001b[1;31mNameError\u001b[0m                                 Traceback (most recent call last)",
      "Input \u001b[1;32mIn [1]\u001b[0m, in \u001b[0;36m<cell line: 2>\u001b[1;34m()\u001b[0m\n\u001b[0;32m      1\u001b[0m \u001b[38;5;28;01mimport\u001b[39;00m \u001b[38;5;21;01mtorch\u001b[39;00m\n\u001b[1;32m----> 2\u001b[0m torch\u001b[38;5;241m.\u001b[39mrandint(\u001b[43mN\u001b[49m)\n",
      "\u001b[1;31mNameError\u001b[0m: name 'N' is not defined"
     ]
    }
   ],
   "source": [
    "import torch\n",
    "torch.randint(N)"
   ]
  },
  {
   "cell_type": "code",
   "execution_count": 2,
   "metadata": {},
   "outputs": [
    {
     "data": {
      "text/plain": [
       "tensor([-0.7847, -0.7329,  0.5805, -0.3636,  0.1568, -0.3523, -0.4024,  1.2379,\n",
       "         0.0700,  0.8632])"
      ]
     },
     "execution_count": 2,
     "metadata": {},
     "output_type": "execute_result"
    }
   ],
   "source": [
    "torch.randn(10)"
   ]
  },
  {
   "cell_type": "code",
   "execution_count": 30,
   "metadata": {},
   "outputs": [
    {
     "data": {
      "text/plain": [
       "7"
      ]
     },
     "execution_count": 30,
     "metadata": {},
     "output_type": "execute_result"
    }
   ],
   "source": [
    "torch.randint(0,10, (1,)).numpy()[0]"
   ]
  },
  {
   "cell_type": "code",
   "execution_count": 34,
   "metadata": {},
   "outputs": [
    {
     "data": {
      "text/plain": [
       "tensor([1.0058])"
      ]
     },
     "execution_count": 34,
     "metadata": {},
     "output_type": "execute_result"
    }
   ],
   "source": [
    "torch.randn(1)*2*torch.pi"
   ]
  },
  {
   "cell_type": "code",
   "execution_count": null,
   "metadata": {},
   "outputs": [],
   "source": []
  }
 ],
 "metadata": {
  "kernelspec": {
   "display_name": "base",
   "language": "python",
   "name": "python3"
  },
  "language_info": {
   "codemirror_mode": {
    "name": "ipython",
    "version": 3
   },
   "file_extension": ".py",
   "mimetype": "text/x-python",
   "name": "python",
   "nbconvert_exporter": "python",
   "pygments_lexer": "ipython3",
   "version": "3.9.12"
  }
 },
 "nbformat": 4,
 "nbformat_minor": 2
}
