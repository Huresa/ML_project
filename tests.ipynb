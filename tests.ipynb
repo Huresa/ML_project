{
 "cells": [
  {
   "cell_type": "code",
   "execution_count": 1,
   "metadata": {},
   "outputs": [],
   "source": [
    "import torch\n",
    "import numpy as np"
   ]
  },
  {
   "cell_type": "code",
   "execution_count": 2,
   "metadata": {},
   "outputs": [
    {
     "data": {
      "text/plain": [
       "tensor([6.2267e-01, 8.8225e-01, 1.6017e+00, 4.0576e+00, 1.3697e+00, 3.1738e+00,\n",
       "        5.4004e+00, 3.9772e+00, 2.8005e+00, 1.1422e-04, 2.2291e+00, 5.8529e+00,\n",
       "        5.6009e+00, 2.1803e+00, 3.8433e+00, 2.5597e+00, 1.8808e+00, 1.2478e+00,\n",
       "        1.3530e+00, 4.3770e+00, 5.8572e+00, 5.9721e+00, 1.9647e+00, 1.1781e+00,\n",
       "        4.0331e+00, 1.9024e+00, 1.2722e+00, 1.2331e+00, 5.6867e+00, 8.0866e-01,\n",
       "        2.0033e+00, 3.6220e+00, 2.8571e+00, 4.1362e+00, 1.0353e+00, 6.3968e-02,\n",
       "        2.2430e+00, 2.5394e+00, 4.5801e+00, 4.5868e+00, 3.8821e+00, 3.9557e+00,\n",
       "        4.4364e+00, 8.2157e-01, 1.0889e+00, 5.2438e+00, 3.4970e+00, 3.9514e+00,\n",
       "        5.9059e+00, 3.5791e+00, 5.3664e+00, 4.7738e+00, 5.2117e-01, 7.5724e-01,\n",
       "        5.4668e+00, 1.1236e+00, 4.4733e+00, 4.9117e+00, 4.5462e+00, 1.7656e+00,\n",
       "        4.2021e-01, 3.8261e+00, 3.9240e+00, 2.7635e+00])"
      ]
     },
     "execution_count": 2,
     "metadata": {},
     "output_type": "execute_result"
    }
   ],
   "source": [
    "N = 4\n",
    "configuration = torch.rand((N**3,))*2*np.pi\n",
    "configuration"
   ]
  },
  {
   "cell_type": "code",
   "execution_count": 3,
   "metadata": {},
   "outputs": [
    {
     "data": {
      "text/plain": [
       "tensor([[[6.2267e-01, 8.8225e-01, 1.6017e+00, 4.0576e+00],\n",
       "         [1.3697e+00, 3.1738e+00, 5.4004e+00, 3.9772e+00],\n",
       "         [2.8005e+00, 1.1422e-04, 2.2291e+00, 5.8529e+00],\n",
       "         [5.6009e+00, 2.1803e+00, 3.8433e+00, 2.5597e+00]],\n",
       "\n",
       "        [[1.8808e+00, 1.2478e+00, 1.3530e+00, 4.3770e+00],\n",
       "         [5.8572e+00, 5.9721e+00, 1.9647e+00, 1.1781e+00],\n",
       "         [4.0331e+00, 1.9024e+00, 1.2722e+00, 1.2331e+00],\n",
       "         [5.6867e+00, 8.0866e-01, 2.0033e+00, 3.6220e+00]],\n",
       "\n",
       "        [[2.8571e+00, 4.1362e+00, 1.0353e+00, 6.3968e-02],\n",
       "         [2.2430e+00, 2.5394e+00, 4.5801e+00, 4.5868e+00],\n",
       "         [3.8821e+00, 3.9557e+00, 4.4364e+00, 8.2157e-01],\n",
       "         [1.0889e+00, 5.2438e+00, 3.4970e+00, 3.9514e+00]],\n",
       "\n",
       "        [[5.9059e+00, 3.5791e+00, 5.3664e+00, 4.7738e+00],\n",
       "         [5.2117e-01, 7.5724e-01, 5.4668e+00, 1.1236e+00],\n",
       "         [4.4733e+00, 4.9117e+00, 4.5462e+00, 1.7656e+00],\n",
       "         [4.2021e-01, 3.8261e+00, 3.9240e+00, 2.7635e+00]]])"
      ]
     },
     "execution_count": 3,
     "metadata": {},
     "output_type": "execute_result"
    }
   ],
   "source": [
    "lattice = configuration.view(N,N,N)\n",
    "lattice"
   ]
  },
  {
   "cell_type": "code",
   "execution_count": 4,
   "metadata": {},
   "outputs": [
    {
     "data": {
      "text/plain": [
       "tensor([[[5.6009e+00, 2.1803e+00, 3.8433e+00, 2.5597e+00],\n",
       "         [6.2267e-01, 8.8225e-01, 1.6017e+00, 4.0576e+00],\n",
       "         [1.3697e+00, 3.1738e+00, 5.4004e+00, 3.9772e+00],\n",
       "         [2.8005e+00, 1.1422e-04, 2.2291e+00, 5.8529e+00]],\n",
       "\n",
       "        [[5.6867e+00, 8.0866e-01, 2.0033e+00, 3.6220e+00],\n",
       "         [1.8808e+00, 1.2478e+00, 1.3530e+00, 4.3770e+00],\n",
       "         [5.8572e+00, 5.9721e+00, 1.9647e+00, 1.1781e+00],\n",
       "         [4.0331e+00, 1.9024e+00, 1.2722e+00, 1.2331e+00]],\n",
       "\n",
       "        [[1.0889e+00, 5.2438e+00, 3.4970e+00, 3.9514e+00],\n",
       "         [2.8571e+00, 4.1362e+00, 1.0353e+00, 6.3968e-02],\n",
       "         [2.2430e+00, 2.5394e+00, 4.5801e+00, 4.5868e+00],\n",
       "         [3.8821e+00, 3.9557e+00, 4.4364e+00, 8.2157e-01]],\n",
       "\n",
       "        [[4.2021e-01, 3.8261e+00, 3.9240e+00, 2.7635e+00],\n",
       "         [5.9059e+00, 3.5791e+00, 5.3664e+00, 4.7738e+00],\n",
       "         [5.2117e-01, 7.5724e-01, 5.4668e+00, 1.1236e+00],\n",
       "         [4.4733e+00, 4.9117e+00, 4.5462e+00, 1.7656e+00]]])"
      ]
     },
     "execution_count": 4,
     "metadata": {},
     "output_type": "execute_result"
    }
   ],
   "source": [
    "torch.roll(lattice, shifts=1, dims=1)\n"
   ]
  },
  {
   "cell_type": "code",
   "execution_count": 19,
   "metadata": {},
   "outputs": [],
   "source": [
    "def XYd2n3_BC(configuration):\n",
    "    N = int(len(configuration) ** (1/3))+1 #for N>=3\n",
    "    configuration = configuration%(2*torch.pi)\n",
    "    copy_config = torch.zeros_like(configuration)\n",
    "    copy_config[N-1::N] = configuration[::N]-configuration[N-1::N]\n",
    "    copy_config[-N**2:] = configuration[:N**2]-configuration[-N**2:]\n",
    "    for k in range(N):\n",
    "        copy_config[(k+1)*N**2-N:(k+1)*N**2] = configuration[k*N**2:k*N**2+N]-configuration[(k+1)*N**2-N:(k+1)*N**2]\n",
    "    return configuration + copy_config"
   ]
  },
  {
   "cell_type": "code",
   "execution_count": 22,
   "metadata": {},
   "outputs": [
    {
     "data": {
      "text/plain": [
       "tensor([[[6.2267e-01, 8.8225e-01, 1.6017e+00, 6.2267e-01],\n",
       "         [1.3697e+00, 3.1738e+00, 5.4004e+00, 1.3697e+00],\n",
       "         [2.8005e+00, 1.1422e-04, 2.2291e+00, 2.8005e+00],\n",
       "         [6.2267e-01, 8.8225e-01, 1.6017e+00, 4.0576e+00]],\n",
       "\n",
       "        [[1.8808e+00, 1.2478e+00, 1.3530e+00, 1.8808e+00],\n",
       "         [5.8572e+00, 5.9721e+00, 1.9647e+00, 5.8572e+00],\n",
       "         [4.0331e+00, 1.9024e+00, 1.2722e+00, 4.0331e+00],\n",
       "         [1.8808e+00, 1.2478e+00, 1.3530e+00, 4.3770e+00]],\n",
       "\n",
       "        [[2.8571e+00, 4.1362e+00, 1.0353e+00, 2.8571e+00],\n",
       "         [2.2430e+00, 2.5394e+00, 4.5801e+00, 2.2430e+00],\n",
       "         [3.8821e+00, 3.9557e+00, 4.4364e+00, 3.8821e+00],\n",
       "         [2.8571e+00, 4.1362e+00, 1.0353e+00, 6.3968e-02]],\n",
       "\n",
       "        [[6.2267e-01, 8.8225e-01, 1.6017e+00, 4.0576e+00],\n",
       "         [1.3697e+00, 3.1738e+00, 5.4004e+00, 3.9772e+00],\n",
       "         [2.8005e+00, 1.1444e-04, 2.2291e+00, 5.8529e+00],\n",
       "         [5.9059e+00, 3.5791e+00, 5.3664e+00, 4.7738e+00]]])"
      ]
     },
     "execution_count": 22,
     "metadata": {},
     "output_type": "execute_result"
    }
   ],
   "source": [
    "XYd2n3_BC(configuration).view(N,N,N)\n"
   ]
  },
  {
   "cell_type": "code",
   "execution_count": 23,
   "metadata": {},
   "outputs": [
    {
     "data": {
      "text/plain": [
       "tensor([[[6.2267e-01, 8.8225e-01, 1.6017e+00, 4.0576e+00],\n",
       "         [1.3697e+00, 3.1738e+00, 5.4004e+00, 3.9772e+00],\n",
       "         [2.8005e+00, 1.1422e-04, 2.2291e+00, 5.8529e+00],\n",
       "         [5.6009e+00, 2.1803e+00, 3.8433e+00, 2.5597e+00]],\n",
       "\n",
       "        [[1.8808e+00, 1.2478e+00, 1.3530e+00, 4.3770e+00],\n",
       "         [5.8572e+00, 5.9721e+00, 1.9647e+00, 1.1781e+00],\n",
       "         [4.0331e+00, 1.9024e+00, 1.2722e+00, 1.2331e+00],\n",
       "         [5.6867e+00, 8.0866e-01, 2.0033e+00, 3.6220e+00]],\n",
       "\n",
       "        [[2.8571e+00, 4.1362e+00, 1.0353e+00, 6.3968e-02],\n",
       "         [2.2430e+00, 2.5394e+00, 4.5801e+00, 4.5868e+00],\n",
       "         [3.8821e+00, 3.9557e+00, 4.4364e+00, 8.2157e-01],\n",
       "         [1.0889e+00, 5.2438e+00, 3.4970e+00, 3.9514e+00]],\n",
       "\n",
       "        [[5.9059e+00, 3.5791e+00, 5.3664e+00, 4.7738e+00],\n",
       "         [5.2117e-01, 7.5724e-01, 5.4668e+00, 1.1236e+00],\n",
       "         [4.4733e+00, 4.9117e+00, 4.5462e+00, 1.7656e+00],\n",
       "         [4.2021e-01, 3.8261e+00, 3.9240e+00, 2.7635e+00]]])"
      ]
     },
     "execution_count": 23,
     "metadata": {},
     "output_type": "execute_result"
    }
   ],
   "source": [
    "lattice"
   ]
  },
  {
   "cell_type": "code",
   "execution_count": 109,
   "metadata": {},
   "outputs": [],
   "source": [
    "X = torch.tensor([1,2,3,4])"
   ]
  },
  {
   "cell_type": "code",
   "execution_count": 113,
   "metadata": {},
   "outputs": [
    {
     "data": {
      "text/plain": [
       "tensor([3, 4])"
      ]
     },
     "execution_count": 113,
     "metadata": {},
     "output_type": "execute_result"
    }
   ],
   "source": [
    "X[2:]"
   ]
  },
  {
   "cell_type": "code",
   "execution_count": 114,
   "metadata": {},
   "outputs": [
    {
     "data": {
      "text/plain": [
       "tensor([1, 2])"
      ]
     },
     "execution_count": 114,
     "metadata": {},
     "output_type": "execute_result"
    }
   ],
   "source": [
    "X[:2]"
   ]
  },
  {
   "cell_type": "code",
   "execution_count": 6,
   "metadata": {},
   "outputs": [
    {
     "data": {
      "text/plain": [
       "[<matplotlib.lines.Line2D at 0x1f92c33cb20>]"
      ]
     },
     "execution_count": 6,
     "metadata": {},
     "output_type": "execute_result"
    },
    {
     "data": {
      "image/png": "[encoded data removed]",
      "text/plain": [
       "<Figure size 432x288 with 1 Axes>"
      ]
     },
     "metadata": {
      "needs_background": "light"
     },
     "output_type": "display_data"
    }
   ],
   "source": [
    "import numpy as np\n",
    "import matplotlib.pyplot as plt\n",
    "\n",
    "x = np.linspace(0,30, 31)\n",
    "\n",
    "y = x**3\n",
    "plt.plot(x, y**(1/3)-x)\n"
   ]
  },
  {
   "cell_type": "code",
   "execution_count": 10,
   "metadata": {},
   "outputs": [
    {
     "data": {
      "text/plain": [
       "15.001481335186401"
      ]
     },
     "execution_count": 10,
     "metadata": {},
     "output_type": "execute_result"
    }
   ],
   "source": [
    "(15**3+1)**(1/3)"
   ]
  },
  {
   "cell_type": "code",
   "execution_count": 1,
   "metadata": {},
   "outputs": [
    {
     "data": {
      "text/plain": [
       "3375"
      ]
     },
     "execution_count": 1,
     "metadata": {},
     "output_type": "execute_result"
    }
   ],
   "source": [
    "15*15*15"
   ]
  },
  {
   "cell_type": "code",
   "execution_count": null,
   "metadata": {},
   "outputs": [],
   "source": []
  }
 ],
 "metadata": {
  "kernelspec": {
   "display_name": "base",
   "language": "python",
   "name": "python3"
  },
  "language_info": {
   "codemirror_mode": {
    "name": "ipython",
    "version": 3
   },
   "file_extension": ".py",
   "mimetype": "text/x-python",
   "name": "python",
   "nbconvert_exporter": "python",
   "pygments_lexer": "ipython3",
   "version": "3.9.12"
  }
 },
 "nbformat": 4,
 "nbformat_minor": 2
}
